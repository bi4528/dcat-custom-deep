{
 "cells": [
  {
   "cell_type": "markdown",
   "id": "6d7b4af5",
   "metadata": {},
   "source": [
    "# Evalvacija iz JSON (napovedi + zlati standard)\n",
    "\n",
    "Beremo **napovedi ujemanja iz JSON** (npr. `opsi_match.json`) in **zlati standard JSON**.\n",
    "Nato izračuna **Acc@1**, **P@5** in **MRR**.\n"
   ]
  },
  {
   "cell_type": "code",
   "execution_count": 14,
   "id": "5781e34f",
   "metadata": {},
   "outputs": [],
   "source": [
    "# Nastavitve poti (prilagodi)\n",
    "PREDICTIONS_JSON = \"notebook_brezice/result/brezice_match.json\"               # <-- tvoj JSON z napovedmi\n",
    "GOLD_JSON        = \"notebook_brezice/gold/trbovlje_to_brezice.json\" # <-- tvoj zlati standard\n",
    "RUN_TAG          = \"brezice_json\"\n",
    "\n",
    "TOP_K = 5\n",
    "\n",
    "# Polja v predictions JSON (po potrebi prilagodi, default za 'opsi_match.json'):\n",
    "SOURCE_LABEL_FIELD     = \"source_label\"\n",
    "SOURCE_FALLBACK_FIELD  = \"source_uri\"\n",
    "CANDIDATES_FIELD       = \"top_k_matches\"\n",
    "CANDIDATE_LABEL_FIELD  = \"label\"\n",
    "CANDIDATE_URI_FIELD    = \"uri\"\n",
    "SCORE_FIELD_OPTIONS    = [\"combined_score\",\"score\"]  # po prioriteti\n"
   ]
  },
  {
   "cell_type": "code",
   "execution_count": null,
   "id": "1a139b9a",
   "metadata": {},
   "outputs": [
    {
     "ename": "ImportError",
     "evalue": "attempted relative import with no known parent package",
     "output_type": "error",
     "traceback": [
      "\u001b[31m---------------------------------------------------------------------------\u001b[39m",
      "\u001b[31mImportError\u001b[39m                               Traceback (most recent call last)",
      "\u001b[36mCell\u001b[39m\u001b[36m \u001b[39m\u001b[32mIn[4]\u001b[39m\u001b[32m, line 6\u001b[39m\n\u001b[32m      3\u001b[39m \u001b[38;5;28;01mfrom\u001b[39;00m\u001b[38;5;250m \u001b[39m\u001b[34;01mIPython\u001b[39;00m\u001b[34;01m.\u001b[39;00m\u001b[34;01mdisplay\u001b[39;00m\u001b[38;5;250m \u001b[39m\u001b[38;5;28;01mimport\u001b[39;00m display\n\u001b[32m      4\u001b[39m \u001b[38;5;28;01mfrom\u001b[39;00m\u001b[38;5;250m \u001b[39m\u001b[34;01mmatplotlib\u001b[39;00m\u001b[38;5;250m \u001b[39m\u001b[38;5;28;01mimport\u001b[39;00m pyplot \u001b[38;5;28;01mas\u001b[39;00m plt\n\u001b[32m----> \u001b[39m\u001b[32m6\u001b[39m \u001b[38;5;28;01mfrom\u001b[39;00m\u001b[38;5;250m \u001b[39m\u001b[34;01m.\u001b[39;00m\u001b[34;01mjson_eval_helpers\u001b[39;00m\u001b[38;5;250m \u001b[39m\u001b[38;5;28;01mimport\u001b[39;00m (\n\u001b[32m      7\u001b[39m     load_predictions_json,\n\u001b[32m      8\u001b[39m     load_gold_json,\n\u001b[32m      9\u001b[39m     compute_metrics_from_maps\n\u001b[32m     10\u001b[39m )\n",
      "\u001b[31mImportError\u001b[39m: attempted relative import with no known parent package"
     ]
    }
   ],
   "source": [
    "from pathlib import Path\n",
    "import pandas as pd\n",
    "from IPython.display import display\n",
    "from matplotlib import pyplot as plt\n"
   ]
  },
  {
   "cell_type": "code",
   "execution_count": 11,
   "id": "686bfb83",
   "metadata": {},
   "outputs": [],
   "source": [
    "import sys\n",
    "\n",
    "sys.path.insert(0, 'notebook_brezice')\n",
    "from json_eval_helpers import (\n",
    "    load_predictions_json,\n",
    "    load_gold_json,\n",
    "    compute_metrics_from_maps\n",
    ")"
   ]
  },
  {
   "cell_type": "code",
   "execution_count": 15,
   "id": "8cdaa751",
   "metadata": {},
   "outputs": [
    {
     "data": {
      "text/plain": [
       "(7, 8)"
      ]
     },
     "execution_count": 15,
     "metadata": {},
     "output_type": "execute_result"
    }
   ],
   "source": [
    "# Naloži top-k mape in zlati standard\n",
    "topk_map = load_predictions_json(\n",
    "    PREDICTIONS_JSON,\n",
    "    source_label_field=SOURCE_LABEL_FIELD,\n",
    "    source_fallback_field=SOURCE_FALLBACK_FIELD,\n",
    "    candidates_field=CANDIDATES_FIELD,\n",
    "    candidate_label_field=CANDIDATE_LABEL_FIELD,\n",
    "    candidate_uri_field=CANDIDATE_URI_FIELD,\n",
    "    score_field_options=SCORE_FIELD_OPTIONS,\n",
    "    top_k=TOP_K,\n",
    ")\n",
    "gold_map = load_gold_json(GOLD_JSON)\n",
    "\n",
    "len(topk_map), len(gold_map)"
   ]
  },
  {
   "cell_type": "code",
   "execution_count": 16,
   "id": "f670422f",
   "metadata": {},
   "outputs": [
    {
     "data": {
      "text/plain": [
       "{'count': 8, 'acc_at_1': 0.375, 'p_at_5': 0.07500000000000001, 'mrr': 0.375}"
      ]
     },
     "execution_count": 16,
     "metadata": {},
     "output_type": "execute_result"
    }
   ],
   "source": [
    "# Izračun metrik\n",
    "res = compute_metrics_from_maps(topk_map, gold_map, k=TOP_K)\n",
    "summary = {k: v for k, v in res.items() if k in [\"count\", \"acc_at_1\", \"p_at_5\", \"mrr\"]}\n",
    "summary"
   ]
  },
  {
   "cell_type": "code",
   "execution_count": 17,
   "id": "5670231c",
   "metadata": {},
   "outputs": [
    {
     "data": {
      "text/html": [
       "<div>\n",
       "<style scoped>\n",
       "    .dataframe tbody tr th:only-of-type {\n",
       "        vertical-align: middle;\n",
       "    }\n",
       "\n",
       "    .dataframe tbody tr th {\n",
       "        vertical-align: top;\n",
       "    }\n",
       "\n",
       "    .dataframe thead th {\n",
       "        text-align: right;\n",
       "    }\n",
       "</style>\n",
       "<table border=\"1\" class=\"dataframe\">\n",
       "  <thead>\n",
       "    <tr style=\"text-align: right;\">\n",
       "      <th></th>\n",
       "      <th>source_column</th>\n",
       "      <th>gold</th>\n",
       "      <th>predictions</th>\n",
       "      <th>hit</th>\n",
       "      <th>rank_hit</th>\n",
       "      <th>hits_in_k</th>\n",
       "    </tr>\n",
       "  </thead>\n",
       "  <tbody>\n",
       "    <tr>\n",
       "      <th>0</th>\n",
       "      <td>Naziv</td>\n",
       "      <td>[lokacija_parkirisca]</td>\n",
       "      <td>[opis lokacije, lokacija parkirisca, Parkrini ...</td>\n",
       "      <td>False</td>\n",
       "      <td>NaN</td>\n",
       "      <td>0</td>\n",
       "    </tr>\n",
       "    <tr>\n",
       "      <th>1</th>\n",
       "      <td>Lokacijska koordinata (GMAPS - WGS84)</td>\n",
       "      <td>[gps_parkirisca]</td>\n",
       "      <td>[]</td>\n",
       "      <td>False</td>\n",
       "      <td>NaN</td>\n",
       "      <td>0</td>\n",
       "    </tr>\n",
       "    <tr>\n",
       "      <th>2</th>\n",
       "      <td>Plačljivo</td>\n",
       "      <td>[Parkrini režim]</td>\n",
       "      <td>[Parkrini režim, lokacija parkirisca, parkirni...</td>\n",
       "      <td>True</td>\n",
       "      <td>1.0</td>\n",
       "      <td>1</td>\n",
       "    </tr>\n",
       "    <tr>\n",
       "      <th>3</th>\n",
       "      <td>Cena</td>\n",
       "      <td>[]</td>\n",
       "      <td>[opis lokacije, Parkrini režim, parkirni prost...</td>\n",
       "      <td>False</td>\n",
       "      <td>NaN</td>\n",
       "      <td>0</td>\n",
       "    </tr>\n",
       "    <tr>\n",
       "      <th>4</th>\n",
       "      <td>Število parkirnih mest</td>\n",
       "      <td>[parkirni prostori]</td>\n",
       "      <td>[parkirni prostori, lokacija parkirisca, gps p...</td>\n",
       "      <td>True</td>\n",
       "      <td>1.0</td>\n",
       "      <td>1</td>\n",
       "    </tr>\n",
       "    <tr>\n",
       "      <th>5</th>\n",
       "      <td>Električna polnilnica</td>\n",
       "      <td>[]</td>\n",
       "      <td>[]</td>\n",
       "      <td>False</td>\n",
       "      <td>NaN</td>\n",
       "      <td>0</td>\n",
       "    </tr>\n",
       "    <tr>\n",
       "      <th>6</th>\n",
       "      <td>Število mest z električno polnilnico</td>\n",
       "      <td>[]</td>\n",
       "      <td>[parkirni prostori za invalide, parkirni prost...</td>\n",
       "      <td>False</td>\n",
       "      <td>NaN</td>\n",
       "      <td>0</td>\n",
       "    </tr>\n",
       "    <tr>\n",
       "      <th>7</th>\n",
       "      <td>Število mest za invalide</td>\n",
       "      <td>[parkirni prostori za invalide]</td>\n",
       "      <td>[parkirni prostori za invalide, opis lokacije,...</td>\n",
       "      <td>True</td>\n",
       "      <td>1.0</td>\n",
       "      <td>1</td>\n",
       "    </tr>\n",
       "  </tbody>\n",
       "</table>\n",
       "</div>"
      ],
      "text/plain": [
       "                           source_column                             gold  \\\n",
       "0                                  Naziv            [lokacija_parkirisca]   \n",
       "1  Lokacijska koordinata (GMAPS - WGS84)                 [gps_parkirisca]   \n",
       "2                              Plačljivo                 [Parkrini režim]   \n",
       "3                                   Cena                               []   \n",
       "4                 Število parkirnih mest              [parkirni prostori]   \n",
       "5                  Električna polnilnica                               []   \n",
       "6   Število mest z električno polnilnico                               []   \n",
       "7               Število mest za invalide  [parkirni prostori za invalide]   \n",
       "\n",
       "                                         predictions    hit  rank_hit  \\\n",
       "0  [opis lokacije, lokacija parkirisca, Parkrini ...  False       NaN   \n",
       "1                                                 []  False       NaN   \n",
       "2  [Parkrini režim, lokacija parkirisca, parkirni...   True       1.0   \n",
       "3  [opis lokacije, Parkrini režim, parkirni prost...  False       NaN   \n",
       "4  [parkirni prostori, lokacija parkirisca, gps p...   True       1.0   \n",
       "5                                                 []  False       NaN   \n",
       "6  [parkirni prostori za invalide, parkirni prost...  False       NaN   \n",
       "7  [parkirni prostori za invalide, opis lokacije,...   True       1.0   \n",
       "\n",
       "   hits_in_k  \n",
       "0          0  \n",
       "1          0  \n",
       "2          1  \n",
       "3          0  \n",
       "4          1  \n",
       "5          0  \n",
       "6          0  \n",
       "7          1  "
      ]
     },
     "metadata": {},
     "output_type": "display_data"
    },
    {
     "name": "stdout",
     "output_type": "stream",
     "text": [
      "Saved: notebook_brezice/results_eval/results_eval_json/eval_json_details_brezice_json.csv\n"
     ]
    }
   ],
   "source": [
    "# Detajli po stolpcih\n",
    "details_df = pd.DataFrame(res[\"details\"])\n",
    "display(details_df.head(20))\n",
    "\n",
    "# Shrani rezultate\n",
    "out_dir = Path(\"notebook_brezice/results_eval/results_eval_json\")\n",
    "out_dir.mkdir(parents=True, exist_ok=True)\n",
    "out_csv = out_dir / f\"eval_json_details_{RUN_TAG}.csv\"\n",
    "details_df.to_csv(out_csv, index=False, encoding=\"utf-8\")\n",
    "print(\"Saved:\", out_csv)\n"
   ]
  },
  {
   "cell_type": "code",
   "execution_count": 18,
   "id": "cac42483",
   "metadata": {},
   "outputs": [
    {
     "data": {
      "image/png": "[encoded data removed]",
      "text/plain": [
       "<Figure size 600x400 with 1 Axes>"
      ]
     },
     "metadata": {},
     "output_type": "display_data"
    }
   ],
   "source": [
    "# Preprost graf\n",
    "plt.figure(figsize=(6,4))\n",
    "xs = [\"Acc@1\", \"P@5\", \"MRR\"]\n",
    "ys = [summary[\"acc_at_1\"], summary[\"p_at_5\"], summary[\"mrr\"]]\n",
    "plt.bar(xs, ys)\n",
    "plt.ylim(0,1)\n",
    "plt.title(f\"Eval JSON: {RUN_TAG}\")\n",
    "for i, v in enumerate(ys):\n",
    "    plt.text(i, v + 0.02, f\"{v:.2f}\", ha=\"center\")\n",
    "plt.show()\n"
   ]
  }
 ],
 "metadata": {
  "kernelspec": {
   "display_name": "ckanenv",
   "language": "python",
   "name": "python3"
  },
  "language_info": {
   "codemirror_mode": {
    "name": "ipython",
    "version": 3
   },
   "file_extension": ".py",
   "mimetype": "text/x-python",
   "name": "python",
   "nbconvert_exporter": "python",
   "pygments_lexer": "ipython3",
   "version": "3.11.4"
  }
 },
 "nbformat": 4,
 "nbformat_minor": 5
}
